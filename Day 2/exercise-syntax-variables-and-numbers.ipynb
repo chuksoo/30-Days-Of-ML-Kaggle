{
 "cells": [
  {
   "cell_type": "markdown",
   "id": "8d3c343e",
   "metadata": {
    "papermill": {
     "duration": 0.021799,
     "end_time": "2021-08-03T00:56:00.501384",
     "exception": false,
     "start_time": "2021-08-03T00:56:00.479585",
     "status": "completed"
    },
    "tags": []
   },
   "source": [
    "**This notebook is an exercise in the [Python](https://www.kaggle.com/learn/python) course.  You can reference the tutorial at [this link](https://www.kaggle.com/colinmorris/hello-python).**\n",
    "\n",
    "---\n"
   ]
  },
  {
   "cell_type": "markdown",
   "id": "1a61fd9f",
   "metadata": {
    "papermill": {
     "duration": 0.020422,
     "end_time": "2021-08-03T00:56:00.542777",
     "exception": false,
     "start_time": "2021-08-03T00:56:00.522355",
     "status": "completed"
    },
    "tags": []
   },
   "source": [
    "Welcome to your first set of Python coding problems.  If this is your first time using Kaggle Notebooks, welcome! \n",
    "\n",
    "Notebooks are composed of blocks (called \"cells\") of text and code. Each of these is editable, though you'll mainly be editing the code cells to answer some questions.\n",
    "\n",
    "To get started, try running the code cell below (by pressing the ► button, or clicking on the cell and pressing ctrl+enter on your keyboard)."
   ]
  },
  {
   "cell_type": "code",
   "execution_count": 1,
   "id": "c0a79155",
   "metadata": {
    "execution": {
     "iopub.execute_input": "2021-08-03T00:56:00.594822Z",
     "iopub.status.busy": "2021-08-03T00:56:00.594176Z",
     "iopub.status.idle": "2021-08-03T00:56:00.598990Z",
     "shell.execute_reply": "2021-08-03T00:56:00.598231Z",
     "shell.execute_reply.started": "2021-08-03T00:31:47.992322Z"
    },
    "papermill": {
     "duration": 0.035782,
     "end_time": "2021-08-03T00:56:00.599161",
     "exception": false,
     "start_time": "2021-08-03T00:56:00.563379",
     "status": "completed"
    },
    "tags": []
   },
   "outputs": [
    {
     "name": "stdout",
     "output_type": "stream",
     "text": [
      "You've successfully run some Python code\n",
      "Congratulations!\n"
     ]
    }
   ],
   "source": [
    "print(\"You've successfully run some Python code\")\n",
    "print(\"Congratulations!\")"
   ]
  },
  {
   "cell_type": "markdown",
   "id": "fe529825",
   "metadata": {
    "papermill": {
     "duration": 0.020522,
     "end_time": "2021-08-03T00:56:00.641109",
     "exception": false,
     "start_time": "2021-08-03T00:56:00.620587",
     "status": "completed"
    },
    "tags": []
   },
   "source": [
    "Try adding another line of code in the cell above and re-running it. \n",
    "\n",
    "Now let's get a little fancier:  Add a new code cell by clicking on an existing code cell, hitting the escape key, and then hitting the `a` or `b` key.  The `a` key will add a cell above the current cell, and `b` adds a cell below.\n",
    "\n",
    "Great! Now you know how to use Notebooks.\n",
    "\n",
    "Each hands-on exercise starts by setting up our feedback and code checking mechanism. Run the code cell below to do that. Then you'll be ready to move on to question 0."
   ]
  },
  {
   "cell_type": "code",
   "execution_count": 2,
   "id": "55d41307",
   "metadata": {
    "_kg_hide-input": true,
    "_kg_hide-output": true,
    "execution": {
     "iopub.execute_input": "2021-08-03T00:56:00.689458Z",
     "iopub.status.busy": "2021-08-03T00:56:00.688686Z",
     "iopub.status.idle": "2021-08-03T00:56:00.824427Z",
     "shell.execute_reply": "2021-08-03T00:56:00.824918Z",
     "shell.execute_reply.started": "2021-08-03T00:32:44.331135Z"
    },
    "papermill": {
     "duration": 0.162401,
     "end_time": "2021-08-03T00:56:00.825110",
     "exception": false,
     "start_time": "2021-08-03T00:56:00.662709",
     "status": "completed"
    },
    "tags": []
   },
   "outputs": [
    {
     "name": "stdout",
     "output_type": "stream",
     "text": [
      "Setup complete! You're ready to start question 0.\n"
     ]
    }
   ],
   "source": [
    "from learntools.core import binder; binder.bind(globals())\n",
    "from learntools.python.ex1 import *\n",
    "print(\"Setup complete! You're ready to start question 0.\")"
   ]
  },
  {
   "cell_type": "markdown",
   "id": "9cb7c571",
   "metadata": {
    "papermill": {
     "duration": 0.021093,
     "end_time": "2021-08-03T00:56:00.867708",
     "exception": false,
     "start_time": "2021-08-03T00:56:00.846615",
     "status": "completed"
    },
    "tags": []
   },
   "source": [
    "# 0.\n",
    "\n",
    "*This is a silly question intended as an introduction to the format we use for hands-on exercises throughout all Kaggle courses.*\n",
    "\n",
    "**What is your favorite color? **\n",
    "\n",
    "To complete this question, create a variable called `color` in the cell below with an appropriate value. The function call `q0.check()` (which we've already provided in the cell below) will check your answer."
   ]
  },
  {
   "cell_type": "code",
   "execution_count": 3,
   "id": "947071da",
   "metadata": {
    "execution": {
     "iopub.execute_input": "2021-08-03T00:56:00.918645Z",
     "iopub.status.busy": "2021-08-03T00:56:00.917966Z",
     "iopub.status.idle": "2021-08-03T00:56:00.923803Z",
     "shell.execute_reply": "2021-08-03T00:56:00.923273Z",
     "shell.execute_reply.started": "2021-08-03T00:33:36.680466Z"
    },
    "papermill": {
     "duration": 0.034592,
     "end_time": "2021-08-03T00:56:00.923940",
     "exception": false,
     "start_time": "2021-08-03T00:56:00.889348",
     "status": "completed"
    },
    "tags": []
   },
   "outputs": [
    {
     "data": {
      "application/javascript": [
       "parent.postMessage({\"jupyterEvent\": \"custom.exercise_interaction\", \"data\": {\"outcomeType\": 1, \"valueTowardsCompletion\": 0.25, \"interactionType\": 1, \"questionType\": 2, \"questionId\": \"0_ExerciseFormatTutorial\", \"learnToolsVersion\": \"0.3.4\", \"failureMessage\": \"\", \"exceptionClass\": \"\", \"trace\": \"\"}}, \"*\")"
      ],
      "text/plain": [
       "<IPython.core.display.Javascript object>"
      ]
     },
     "metadata": {},
     "output_type": "display_data"
    },
    {
     "data": {
      "text/markdown": [
       "<span style=\"color:#33cc33\">Correct:</span> What?! You got it right without needing a hint or anything? Drats. Well hey, you should still continue to the next step to get some practice asking for a hint and checking solutions. (Even though you obviously don't need any help here.)"
      ],
      "text/plain": [
       "Correct: What?! You got it right without needing a hint or anything? Drats. Well hey, you should still continue to the next step to get some practice asking for a hint and checking solutions. (Even though you obviously don't need any help here.)"
      ]
     },
     "metadata": {},
     "output_type": "display_data"
    }
   ],
   "source": [
    "# create a variable called color with an appropriate value on the line below\n",
    "# (Remember, strings in Python must be enclosed in 'single' or \"double\" quotes)\n",
    "color = 'blue'\n",
    "\n",
    "# Check your answer\n",
    "q0.check()"
   ]
  },
  {
   "cell_type": "markdown",
   "id": "facf018c",
   "metadata": {
    "papermill": {
     "duration": 0.021996,
     "end_time": "2021-08-03T00:56:00.968361",
     "exception": false,
     "start_time": "2021-08-03T00:56:00.946365",
     "status": "completed"
    },
    "tags": []
   },
   "source": [
    "Didn't get the right answer? How do you not even know your own favorite color?!\n",
    "\n",
    "Delete the `#` in the line below to make one of the lines run. You can choose between getting a hint or the full answer by choosing which line to remove the `#` from. \n",
    "\n",
    "Removing the `#` is called uncommenting, because it changes that line from a \"comment\" which Python doesn't run to code, which Python does run."
   ]
  },
  {
   "cell_type": "code",
   "execution_count": 4,
   "id": "b1f67ad6",
   "metadata": {
    "execution": {
     "iopub.execute_input": "2021-08-03T00:56:01.017935Z",
     "iopub.status.busy": "2021-08-03T00:56:01.017247Z",
     "iopub.status.idle": "2021-08-03T00:56:01.022700Z",
     "shell.execute_reply": "2021-08-03T00:56:01.023234Z",
     "shell.execute_reply.started": "2021-08-03T00:34:17.718090Z"
    },
    "papermill": {
     "duration": 0.032742,
     "end_time": "2021-08-03T00:56:01.023403",
     "exception": false,
     "start_time": "2021-08-03T00:56:00.990661",
     "status": "completed"
    },
    "tags": []
   },
   "outputs": [
    {
     "data": {
      "application/javascript": [
       "parent.postMessage({\"jupyterEvent\": \"custom.exercise_interaction\", \"data\": {\"interactionType\": 3, \"questionType\": 2, \"questionId\": \"0_ExerciseFormatTutorial\", \"learnToolsVersion\": \"0.3.4\", \"valueTowardsCompletion\": 0.0, \"failureMessage\": \"\", \"exceptionClass\": \"\", \"trace\": \"\", \"outcomeType\": 4}}, \"*\")"
      ],
      "text/plain": [
       "<IPython.core.display.Javascript object>"
      ]
     },
     "metadata": {},
     "output_type": "display_data"
    },
    {
     "data": {
      "text/markdown": [
       "<span style=\"color:#33cc99\">Solution:</span> \n",
       "```python\n",
       "color = \"blue\"\n",
       "```"
      ],
      "text/plain": [
       "Solution: \n",
       "```python\n",
       "color = \"blue\"\n",
       "```"
      ]
     },
     "metadata": {},
     "output_type": "display_data"
    }
   ],
   "source": [
    "#q0.hint()\n",
    "q0.solution()"
   ]
  },
  {
   "cell_type": "markdown",
   "id": "f968a1de",
   "metadata": {
    "papermill": {
     "duration": 0.023359,
     "end_time": "2021-08-03T00:56:01.070358",
     "exception": false,
     "start_time": "2021-08-03T00:56:01.046999",
     "status": "completed"
    },
    "tags": []
   },
   "source": [
    "The upcoming questions work the same way. The only thing that will change are the question numbers. For the next question, you'll call `q1.check()`, `q1.hint()`, `q1.solution()`, for question 2, you'll call `q2.check()`, and so on."
   ]
  },
  {
   "cell_type": "markdown",
   "id": "7ed2c5dd",
   "metadata": {
    "papermill": {
     "duration": 0.023529,
     "end_time": "2021-08-03T00:56:01.117698",
     "exception": false,
     "start_time": "2021-08-03T00:56:01.094169",
     "status": "completed"
    },
    "tags": []
   },
   "source": [
    "<hr/>\n",
    "\n",
    "# 1.\n",
    "\n",
    "Complete the code below. In case it's helpful, here is the table of available arithmetic operations:\n",
    "\n",
    "\n",
    "\n",
    "| Operator     | Name           | Description                                            |\n",
    "|--------------|----------------|--------------------------------------------------------|\n",
    "| ``a + b``    | Addition       | Sum of ``a`` and ``b``                                 |\n",
    "| ``a - b``    | Subtraction    | Difference of ``a`` and ``b``                          |\n",
    "| ``a * b``    | Multiplication | Product of ``a`` and ``b``                             |\n",
    "| ``a / b``    | True division  | Quotient of ``a`` and ``b``                            |\n",
    "| ``a // b``   | Floor division | Quotient of ``a`` and ``b``, removing fractional parts |\n",
    "| ``a % b``    | Modulus        | Integer remainder after division of ``a`` by ``b``     |\n",
    "| ``a ** b``   | Exponentiation | ``a`` raised to the power of ``b``                     |\n",
    "| ``-a``       | Negation       | The negative of ``a``                                  |\n",
    "\n",
    "<span style=\"display:none\"></span>\n"
   ]
  },
  {
   "cell_type": "code",
   "execution_count": 5,
   "id": "12490b8f",
   "metadata": {
    "execution": {
     "iopub.execute_input": "2021-08-03T00:56:01.171639Z",
     "iopub.status.busy": "2021-08-03T00:56:01.170593Z",
     "iopub.status.idle": "2021-08-03T00:56:01.176269Z",
     "shell.execute_reply": "2021-08-03T00:56:01.175606Z",
     "shell.execute_reply.started": "2021-08-03T00:35:50.596568Z"
    },
    "papermill": {
     "duration": 0.035012,
     "end_time": "2021-08-03T00:56:01.176409",
     "exception": false,
     "start_time": "2021-08-03T00:56:01.141397",
     "status": "completed"
    },
    "tags": []
   },
   "outputs": [
    {
     "data": {
      "application/javascript": [
       "parent.postMessage({\"jupyterEvent\": \"custom.exercise_interaction\", \"data\": {\"outcomeType\": 1, \"valueTowardsCompletion\": 0.25, \"interactionType\": 1, \"questionType\": 1, \"questionId\": \"1_CircleArea\", \"learnToolsVersion\": \"0.3.4\", \"failureMessage\": \"\", \"exceptionClass\": \"\", \"trace\": \"\"}}, \"*\")"
      ],
      "text/plain": [
       "<IPython.core.display.Javascript object>"
      ]
     },
     "metadata": {},
     "output_type": "display_data"
    },
    {
     "data": {
      "text/markdown": [
       "<span style=\"color:#33cc33\">Correct</span>"
      ],
      "text/plain": [
       "Correct"
      ]
     },
     "metadata": {},
     "output_type": "display_data"
    }
   ],
   "source": [
    "pi = 3.14159 # approximate\n",
    "diameter = 3\n",
    "\n",
    "# Create a variable called 'radius' equal to half the diameter\n",
    "radius = 0.5 * diameter\n",
    "\n",
    "# Create a variable called 'area', using the formula for the area of a circle: pi times the radius squared\n",
    "area = pi * radius ** 2\n",
    "\n",
    "# Check your answer\n",
    "q1.check()"
   ]
  },
  {
   "cell_type": "code",
   "execution_count": 6,
   "id": "8ad0cb86",
   "metadata": {
    "execution": {
     "iopub.execute_input": "2021-08-03T00:56:01.231052Z",
     "iopub.status.busy": "2021-08-03T00:56:01.229951Z",
     "iopub.status.idle": "2021-08-03T00:56:01.243219Z",
     "shell.execute_reply": "2021-08-03T00:56:01.241921Z",
     "shell.execute_reply.started": "2021-08-03T00:36:02.165384Z"
    },
    "papermill": {
     "duration": 0.042709,
     "end_time": "2021-08-03T00:56:01.243418",
     "exception": false,
     "start_time": "2021-08-03T00:56:01.200709",
     "status": "completed"
    },
    "tags": []
   },
   "outputs": [
    {
     "data": {
      "application/javascript": [
       "parent.postMessage({\"jupyterEvent\": \"custom.exercise_interaction\", \"data\": {\"interactionType\": 2, \"questionType\": 1, \"questionId\": \"1_CircleArea\", \"learnToolsVersion\": \"0.3.4\", \"valueTowardsCompletion\": 0.0, \"failureMessage\": \"\", \"exceptionClass\": \"\", \"trace\": \"\", \"outcomeType\": 4}}, \"*\")"
      ],
      "text/plain": [
       "<IPython.core.display.Javascript object>"
      ]
     },
     "metadata": {},
     "output_type": "display_data"
    },
    {
     "data": {
      "text/markdown": [
       "<span style=\"color:#3366cc\">Hint:</span> The syntax to raise a to the b'th power is `a ** b`"
      ],
      "text/plain": [
       "Hint: The syntax to raise a to the b'th power is `a ** b`"
      ]
     },
     "metadata": {},
     "output_type": "display_data"
    },
    {
     "data": {
      "application/javascript": [
       "parent.postMessage({\"jupyterEvent\": \"custom.exercise_interaction\", \"data\": {\"interactionType\": 3, \"questionType\": 1, \"questionId\": \"1_CircleArea\", \"learnToolsVersion\": \"0.3.4\", \"valueTowardsCompletion\": 0.0, \"failureMessage\": \"\", \"exceptionClass\": \"\", \"trace\": \"\", \"outcomeType\": 4}}, \"*\")"
      ],
      "text/plain": [
       "<IPython.core.display.Javascript object>"
      ]
     },
     "metadata": {},
     "output_type": "display_data"
    },
    {
     "data": {
      "text/markdown": [
       "<span style=\"color:#33cc99\">Solution:</span> \n",
       "```python\n",
       "radius = diameter / 2\n",
       "area = pi * radius ** 2\n",
       "```"
      ],
      "text/plain": [
       "Solution: \n",
       "```python\n",
       "radius = diameter / 2\n",
       "area = pi * radius ** 2\n",
       "```"
      ]
     },
     "metadata": {},
     "output_type": "display_data"
    }
   ],
   "source": [
    "# Uncomment and run the lines below if you need help.\n",
    "q1.hint()\n",
    "q1.solution()"
   ]
  },
  {
   "cell_type": "markdown",
   "id": "16fc55ed",
   "metadata": {
    "papermill": {
     "duration": 0.040429,
     "end_time": "2021-08-03T00:56:01.322245",
     "exception": false,
     "start_time": "2021-08-03T00:56:01.281816",
     "status": "completed"
    },
    "tags": []
   },
   "source": [
    "<hr/>\n",
    "\n",
    "# 2.\n",
    "\n",
    "Add code to the following cell to swap variables `a` and `b` (so that `a` refers to the object previously referred to by `b` and vice versa)."
   ]
  },
  {
   "cell_type": "code",
   "execution_count": 7,
   "id": "c3ecd28d",
   "metadata": {
    "execution": {
     "iopub.execute_input": "2021-08-03T00:56:01.387098Z",
     "iopub.status.busy": "2021-08-03T00:56:01.386347Z",
     "iopub.status.idle": "2021-08-03T00:56:01.392936Z",
     "shell.execute_reply": "2021-08-03T00:56:01.392266Z",
     "shell.execute_reply.started": "2021-08-03T00:38:09.396432Z"
    },
    "papermill": {
     "duration": 0.039401,
     "end_time": "2021-08-03T00:56:01.393125",
     "exception": false,
     "start_time": "2021-08-03T00:56:01.353724",
     "status": "completed"
    },
    "tags": []
   },
   "outputs": [
    {
     "data": {
      "application/javascript": [
       "parent.postMessage({\"jupyterEvent\": \"custom.exercise_interaction\", \"data\": {\"outcomeType\": 1, \"valueTowardsCompletion\": 0.25, \"interactionType\": 1, \"questionType\": 2, \"questionId\": \"2_VariableSwap\", \"learnToolsVersion\": \"0.3.4\", \"failureMessage\": \"\", \"exceptionClass\": \"\", \"trace\": \"\"}}, \"*\")"
      ],
      "text/plain": [
       "<IPython.core.display.Javascript object>"
      ]
     },
     "metadata": {},
     "output_type": "display_data"
    },
    {
     "data": {
      "text/markdown": [
       "<span style=\"color:#33cc33\">Correct:</span> \n",
       "\n",
       "The most straightforward solution is to use a third variable to temporarily store one of the old values. e.g.:\n",
       "\n",
       "    tmp = a\n",
       "    a = b\n",
       "    b = tmp\n",
       "\n",
       "If you've read lots of Python code, you might have seen the following trick to swap two variables in one line:\n",
       "\n",
       "    a, b = b, a\n",
       "\n",
       "We'll demystify this bit of Python magic later when we talk about *tuples*."
      ],
      "text/plain": [
       "Correct: \n",
       "\n",
       "The most straightforward solution is to use a third variable to temporarily store one of the old values. e.g.:\n",
       "\n",
       "    tmp = a\n",
       "    a = b\n",
       "    b = tmp\n",
       "\n",
       "If you've read lots of Python code, you might have seen the following trick to swap two variables in one line:\n",
       "\n",
       "    a, b = b, a\n",
       "\n",
       "We'll demystify this bit of Python magic later when we talk about *tuples*."
      ]
     },
     "metadata": {},
     "output_type": "display_data"
    }
   ],
   "source": [
    "########### Setup code - don't touch this part ######################\n",
    "# If you're curious, these are examples of lists. We'll talk about \n",
    "# them in depth a few lessons from now. For now, just know that they're\n",
    "# yet another type of Python object, like int or float.\n",
    "a = [1, 2, 3]\n",
    "b = [3, 2, 1]\n",
    "q2.store_original_ids()\n",
    "######################################################################\n",
    "\n",
    "# Your code goes here. Swap the values to which a and b refer.\n",
    "# If you get stuck, you can always uncomment one or both of the lines in\n",
    "# the next cell for a hint, or to peek at the solution.\n",
    "a, b = b, a\n",
    "\n",
    "######################################################################\n",
    "\n",
    "# Check your answer\n",
    "q2.check()"
   ]
  },
  {
   "cell_type": "code",
   "execution_count": 8,
   "id": "c4956d7b",
   "metadata": {
    "execution": {
     "iopub.execute_input": "2021-08-03T00:56:01.454218Z",
     "iopub.status.busy": "2021-08-03T00:56:01.453400Z",
     "iopub.status.idle": "2021-08-03T00:56:01.458921Z",
     "shell.execute_reply": "2021-08-03T00:56:01.458237Z",
     "shell.execute_reply.started": "2021-08-03T00:38:24.593749Z"
    },
    "papermill": {
     "duration": 0.037834,
     "end_time": "2021-08-03T00:56:01.459083",
     "exception": false,
     "start_time": "2021-08-03T00:56:01.421249",
     "status": "completed"
    },
    "tags": []
   },
   "outputs": [
    {
     "data": {
      "application/javascript": [
       "parent.postMessage({\"jupyterEvent\": \"custom.exercise_interaction\", \"data\": {\"interactionType\": 2, \"questionType\": 2, \"questionId\": \"2_VariableSwap\", \"learnToolsVersion\": \"0.3.4\", \"valueTowardsCompletion\": 0.0, \"failureMessage\": \"\", \"exceptionClass\": \"\", \"trace\": \"\", \"outcomeType\": 4}}, \"*\")"
      ],
      "text/plain": [
       "<IPython.core.display.Javascript object>"
      ]
     },
     "metadata": {},
     "output_type": "display_data"
    },
    {
     "data": {
      "text/markdown": [
       "<span style=\"color:#3366cc\">Hint:</span> Try using a third variable."
      ],
      "text/plain": [
       "Hint: Try using a third variable."
      ]
     },
     "metadata": {},
     "output_type": "display_data"
    }
   ],
   "source": [
    "q2.hint()"
   ]
  },
  {
   "cell_type": "code",
   "execution_count": 9,
   "id": "7462f338",
   "metadata": {
    "execution": {
     "iopub.execute_input": "2021-08-03T00:56:01.521803Z",
     "iopub.status.busy": "2021-08-03T00:56:01.521127Z",
     "iopub.status.idle": "2021-08-03T00:56:01.527439Z",
     "shell.execute_reply": "2021-08-03T00:56:01.526834Z",
     "shell.execute_reply.started": "2021-08-03T00:38:17.224546Z"
    },
    "papermill": {
     "duration": 0.039932,
     "end_time": "2021-08-03T00:56:01.527597",
     "exception": false,
     "start_time": "2021-08-03T00:56:01.487665",
     "status": "completed"
    },
    "tags": []
   },
   "outputs": [
    {
     "data": {
      "application/javascript": [
       "parent.postMessage({\"jupyterEvent\": \"custom.exercise_interaction\", \"data\": {\"interactionType\": 3, \"questionType\": 2, \"questionId\": \"2_VariableSwap\", \"learnToolsVersion\": \"0.3.4\", \"valueTowardsCompletion\": 0.0, \"failureMessage\": \"\", \"exceptionClass\": \"\", \"trace\": \"\", \"outcomeType\": 4}}, \"*\")"
      ],
      "text/plain": [
       "<IPython.core.display.Javascript object>"
      ]
     },
     "metadata": {},
     "output_type": "display_data"
    },
    {
     "data": {
      "text/markdown": [
       "<span style=\"color:#33cc99\">Solution:</span> The most straightforward solution is to use a third variable to temporarily store one of the old values. e.g.:\n",
       "\n",
       "    tmp = a\n",
       "    a = b\n",
       "    b = tmp\n",
       "\n",
       "If you've read lots of Python code, you might have seen the following trick to swap two variables in one line:\n",
       "\n",
       "    a, b = b, a\n",
       "\n",
       "We'll demystify this bit of Python magic later when we talk about *tuples*."
      ],
      "text/plain": [
       "Solution: The most straightforward solution is to use a third variable to temporarily store one of the old values. e.g.:\n",
       "\n",
       "    tmp = a\n",
       "    a = b\n",
       "    b = tmp\n",
       "\n",
       "If you've read lots of Python code, you might have seen the following trick to swap two variables in one line:\n",
       "\n",
       "    a, b = b, a\n",
       "\n",
       "We'll demystify this bit of Python magic later when we talk about *tuples*."
      ]
     },
     "metadata": {},
     "output_type": "display_data"
    }
   ],
   "source": [
    "q2.solution()"
   ]
  },
  {
   "cell_type": "markdown",
   "id": "6b47c898",
   "metadata": {
    "papermill": {
     "duration": 0.028887,
     "end_time": "2021-08-03T00:56:01.586037",
     "exception": false,
     "start_time": "2021-08-03T00:56:01.557150",
     "status": "completed"
    },
    "tags": []
   },
   "source": [
    "<hr/>\n",
    "\n",
    "# 3a.\n",
    "\n",
    "Add parentheses to the following expression so that it evaluates to 1."
   ]
  },
  {
   "cell_type": "code",
   "execution_count": 10,
   "id": "fdab5f2f",
   "metadata": {
    "execution": {
     "iopub.execute_input": "2021-08-03T00:56:01.650222Z",
     "iopub.status.busy": "2021-08-03T00:56:01.649308Z",
     "iopub.status.idle": "2021-08-03T00:56:01.654272Z",
     "shell.execute_reply": "2021-08-03T00:56:01.653649Z",
     "shell.execute_reply.started": "2021-08-03T00:38:47.891800Z"
    },
    "papermill": {
     "duration": 0.03912,
     "end_time": "2021-08-03T00:56:01.654416",
     "exception": false,
     "start_time": "2021-08-03T00:56:01.615296",
     "status": "completed"
    },
    "tags": []
   },
   "outputs": [
    {
     "data": {
      "text/plain": [
       "1"
      ]
     },
     "execution_count": 10,
     "metadata": {},
     "output_type": "execute_result"
    }
   ],
   "source": [
    "(5 - 3) // 2"
   ]
  },
  {
   "cell_type": "code",
   "execution_count": 11,
   "id": "e275a0af",
   "metadata": {
    "execution": {
     "iopub.execute_input": "2021-08-03T00:56:01.718759Z",
     "iopub.status.busy": "2021-08-03T00:56:01.717841Z",
     "iopub.status.idle": "2021-08-03T00:56:01.721088Z",
     "shell.execute_reply": "2021-08-03T00:56:01.720526Z"
    },
    "papermill": {
     "duration": 0.03704,
     "end_time": "2021-08-03T00:56:01.721221",
     "exception": false,
     "start_time": "2021-08-03T00:56:01.684181",
     "status": "completed"
    },
    "tags": []
   },
   "outputs": [],
   "source": [
    "#q3.a.hint()"
   ]
  },
  {
   "cell_type": "code",
   "execution_count": 12,
   "id": "410e1c7e",
   "metadata": {
    "execution": {
     "iopub.execute_input": "2021-08-03T00:56:01.785321Z",
     "iopub.status.busy": "2021-08-03T00:56:01.784666Z",
     "iopub.status.idle": "2021-08-03T00:56:01.790528Z",
     "shell.execute_reply": "2021-08-03T00:56:01.790006Z",
     "shell.execute_reply.started": "2021-08-03T00:38:54.935707Z"
    },
    "papermill": {
     "duration": 0.039788,
     "end_time": "2021-08-03T00:56:01.790663",
     "exception": false,
     "start_time": "2021-08-03T00:56:01.750875",
     "status": "completed"
    },
    "tags": []
   },
   "outputs": [
    {
     "data": {
      "application/javascript": [
       "parent.postMessage({\"jupyterEvent\": \"custom.exercise_interaction\", \"data\": {\"interactionType\": 3, \"questionType\": 4, \"questionId\": \"3.1_ArithmeticParensEasy\", \"learnToolsVersion\": \"0.3.4\", \"valueTowardsCompletion\": 0.0, \"failureMessage\": \"\", \"exceptionClass\": \"\", \"trace\": \"\", \"outcomeType\": 4}}, \"*\")"
      ],
      "text/plain": [
       "<IPython.core.display.Javascript object>"
      ]
     },
     "metadata": {},
     "output_type": "display_data"
    },
    {
     "data": {
      "text/markdown": [
       "<span style=\"color:#33cc99\">Solution:</span> \n",
       "```python\n",
       "(5 - 3) // 2\n",
       "```"
      ],
      "text/plain": [
       "Solution: \n",
       "```python\n",
       "(5 - 3) // 2\n",
       "```"
      ]
     },
     "metadata": {},
     "output_type": "display_data"
    }
   ],
   "source": [
    "# Check your answer (Run this code cell to receive credit!)\n",
    "q3.a.solution()"
   ]
  },
  {
   "cell_type": "markdown",
   "id": "3d05bd1d",
   "metadata": {
    "papermill": {
     "duration": 0.031254,
     "end_time": "2021-08-03T00:56:01.853322",
     "exception": false,
     "start_time": "2021-08-03T00:56:01.822068",
     "status": "completed"
    },
    "tags": []
   },
   "source": [
    "# 3b.  <span title=\"A bit spicy\" style=\"color: darkgreen \">🌶️</span>\n",
    "\n",
    "<small>Questions, like this one, marked a spicy pepper are a bit harder.</small>\n",
    "\n",
    "Add parentheses to the following expression so that it evaluates to 0."
   ]
  },
  {
   "cell_type": "code",
   "execution_count": 13,
   "id": "8f17bf96",
   "metadata": {
    "execution": {
     "iopub.execute_input": "2021-08-03T00:56:01.920270Z",
     "iopub.status.busy": "2021-08-03T00:56:01.919583Z",
     "iopub.status.idle": "2021-08-03T00:56:01.922528Z",
     "shell.execute_reply": "2021-08-03T00:56:01.923112Z",
     "shell.execute_reply.started": "2021-08-03T00:41:10.332170Z"
    },
    "papermill": {
     "duration": 0.039016,
     "end_time": "2021-08-03T00:56:01.923285",
     "exception": false,
     "start_time": "2021-08-03T00:56:01.884269",
     "status": "completed"
    },
    "tags": []
   },
   "outputs": [
    {
     "data": {
      "text/plain": [
       "0"
      ]
     },
     "execution_count": 13,
     "metadata": {},
     "output_type": "execute_result"
    }
   ],
   "source": [
    "(8 - 3) * (2 - (1 + 1))"
   ]
  },
  {
   "cell_type": "code",
   "execution_count": 14,
   "id": "aa528e0d",
   "metadata": {
    "execution": {
     "iopub.execute_input": "2021-08-03T00:56:01.989998Z",
     "iopub.status.busy": "2021-08-03T00:56:01.989373Z",
     "iopub.status.idle": "2021-08-03T00:56:01.995967Z",
     "shell.execute_reply": "2021-08-03T00:56:01.996456Z",
     "shell.execute_reply.started": "2021-08-03T00:40:25.309198Z"
    },
    "papermill": {
     "duration": 0.042111,
     "end_time": "2021-08-03T00:56:01.996617",
     "exception": false,
     "start_time": "2021-08-03T00:56:01.954506",
     "status": "completed"
    },
    "tags": []
   },
   "outputs": [
    {
     "data": {
      "application/javascript": [
       "parent.postMessage({\"jupyterEvent\": \"custom.exercise_interaction\", \"data\": {\"interactionType\": 2, \"questionType\": 4, \"questionId\": \"3.2_ArithmeticParensHard\", \"learnToolsVersion\": \"0.3.4\", \"valueTowardsCompletion\": 0.0, \"failureMessage\": \"\", \"exceptionClass\": \"\", \"trace\": \"\", \"outcomeType\": 4}}, \"*\")"
      ],
      "text/plain": [
       "<IPython.core.display.Javascript object>"
      ]
     },
     "metadata": {},
     "output_type": "display_data"
    },
    {
     "data": {
      "text/markdown": [
       "<span style=\"color:#3366cc\">Hint:</span> You may need to use several pairs of parentheses."
      ],
      "text/plain": [
       "Hint: You may need to use several pairs of parentheses."
      ]
     },
     "metadata": {},
     "output_type": "display_data"
    }
   ],
   "source": [
    "q3.b.hint()"
   ]
  },
  {
   "cell_type": "code",
   "execution_count": 15,
   "id": "60e69547",
   "metadata": {
    "execution": {
     "iopub.execute_input": "2021-08-03T00:56:02.064322Z",
     "iopub.status.busy": "2021-08-03T00:56:02.063626Z",
     "iopub.status.idle": "2021-08-03T00:56:02.070042Z",
     "shell.execute_reply": "2021-08-03T00:56:02.070561Z",
     "shell.execute_reply.started": "2021-08-03T00:40:36.278503Z"
    },
    "papermill": {
     "duration": 0.042366,
     "end_time": "2021-08-03T00:56:02.070721",
     "exception": false,
     "start_time": "2021-08-03T00:56:02.028355",
     "status": "completed"
    },
    "tags": []
   },
   "outputs": [
    {
     "data": {
      "application/javascript": [
       "parent.postMessage({\"jupyterEvent\": \"custom.exercise_interaction\", \"data\": {\"interactionType\": 3, \"questionType\": 4, \"questionId\": \"3.2_ArithmeticParensHard\", \"learnToolsVersion\": \"0.3.4\", \"valueTowardsCompletion\": 0.0, \"failureMessage\": \"\", \"exceptionClass\": \"\", \"trace\": \"\", \"outcomeType\": 4}}, \"*\")"
      ],
      "text/plain": [
       "<IPython.core.display.Javascript object>"
      ]
     },
     "metadata": {},
     "output_type": "display_data"
    },
    {
     "data": {
      "text/markdown": [
       "<span style=\"color:#33cc99\">Solution:</span> `(8 - 3) * (2 - (1 + 1))` is one solution. There may be others."
      ],
      "text/plain": [
       "Solution: `(8 - 3) * (2 - (1 + 1))` is one solution. There may be others."
      ]
     },
     "metadata": {},
     "output_type": "display_data"
    }
   ],
   "source": [
    "# Check your answer (Run this code cell to receive credit!)\n",
    "q3.b.solution()"
   ]
  },
  {
   "cell_type": "markdown",
   "id": "b4627e48",
   "metadata": {
    "papermill": {
     "duration": 0.032742,
     "end_time": "2021-08-03T00:56:02.137250",
     "exception": false,
     "start_time": "2021-08-03T00:56:02.104508",
     "status": "completed"
    },
    "tags": []
   },
   "source": [
    "<hr/>\n",
    "\n",
    "# 4. \n",
    "Alice, Bob and Carol have agreed to pool their Halloween candy and split it evenly among themselves.\n",
    "For the sake of their friendship, any candies left over will be smashed. For example, if they collectively\n",
    "bring home 91 candies, they'll take 30 each and smash 1.\n",
    "\n",
    "Write an arithmetic expression below to calculate how many candies they must smash for a given haul."
   ]
  },
  {
   "cell_type": "code",
   "execution_count": 16,
   "id": "f1ca7836",
   "metadata": {
    "execution": {
     "iopub.execute_input": "2021-08-03T00:56:02.206070Z",
     "iopub.status.busy": "2021-08-03T00:56:02.205451Z",
     "iopub.status.idle": "2021-08-03T00:56:02.215426Z",
     "shell.execute_reply": "2021-08-03T00:56:02.214866Z",
     "shell.execute_reply.started": "2021-08-03T00:55:15.833884Z"
    },
    "papermill": {
     "duration": 0.045511,
     "end_time": "2021-08-03T00:56:02.215562",
     "exception": false,
     "start_time": "2021-08-03T00:56:02.170051",
     "status": "completed"
    },
    "tags": []
   },
   "outputs": [
    {
     "name": "stdout",
     "output_type": "stream",
     "text": [
      "1\n"
     ]
    },
    {
     "data": {
      "application/javascript": [
       "parent.postMessage({\"jupyterEvent\": \"custom.exercise_interaction\", \"data\": {\"outcomeType\": 1, \"valueTowardsCompletion\": 0.25, \"interactionType\": 1, \"questionType\": 1, \"questionId\": \"4_CandySplitting\", \"learnToolsVersion\": \"0.3.4\", \"failureMessage\": \"\", \"exceptionClass\": \"\", \"trace\": \"\"}}, \"*\")"
      ],
      "text/plain": [
       "<IPython.core.display.Javascript object>"
      ]
     },
     "metadata": {},
     "output_type": "display_data"
    },
    {
     "data": {
      "text/markdown": [
       "<span style=\"color:#33cc33\">Correct</span>"
      ],
      "text/plain": [
       "Correct"
      ]
     },
     "metadata": {},
     "output_type": "display_data"
    }
   ],
   "source": [
    "# Variables representing the number of candies collected by alice, bob, and carol\n",
    "alice_candies = 121\n",
    "bob_candies = 77\n",
    "carol_candies = 109\n",
    "\n",
    "# Your code goes here! Replace the right-hand side of this assignment with an expression\n",
    "# involving alice_candies, bob_candies, and carol_candies\n",
    "to_smash = -1\n",
    "collection = alice_candies + bob_candies + carol_candies\n",
    "to_smash = collection % 3\n",
    "print(to_smash)\n",
    "# Check your answer\n",
    "q4.check()"
   ]
  },
  {
   "cell_type": "code",
   "execution_count": 17,
   "id": "b0c49ce9",
   "metadata": {
    "execution": {
     "iopub.execute_input": "2021-08-03T00:56:02.290393Z",
     "iopub.status.busy": "2021-08-03T00:56:02.289694Z",
     "iopub.status.idle": "2021-08-03T00:56:02.297360Z",
     "shell.execute_reply": "2021-08-03T00:56:02.297882Z",
     "shell.execute_reply.started": "2021-08-03T00:55:21.479871Z"
    },
    "papermill": {
     "duration": 0.047655,
     "end_time": "2021-08-03T00:56:02.298110",
     "exception": false,
     "start_time": "2021-08-03T00:56:02.250455",
     "status": "completed"
    },
    "tags": []
   },
   "outputs": [
    {
     "data": {
      "application/javascript": [
       "parent.postMessage({\"jupyterEvent\": \"custom.exercise_interaction\", \"data\": {\"interactionType\": 2, \"questionType\": 1, \"questionId\": \"4_CandySplitting\", \"learnToolsVersion\": \"0.3.4\", \"valueTowardsCompletion\": 0.0, \"failureMessage\": \"\", \"exceptionClass\": \"\", \"trace\": \"\", \"outcomeType\": 4}}, \"*\")"
      ],
      "text/plain": [
       "<IPython.core.display.Javascript object>"
      ]
     },
     "metadata": {},
     "output_type": "display_data"
    },
    {
     "data": {
      "text/markdown": [
       "<span style=\"color:#3366cc\">Hint 2:</span> `j % k` is the remainder after dividing `j` by `k`"
      ],
      "text/plain": [
       "Hint 2: `j % k` is the remainder after dividing `j` by `k`"
      ]
     },
     "metadata": {},
     "output_type": "display_data"
    },
    {
     "data": {
      "application/javascript": [
       "parent.postMessage({\"jupyterEvent\": \"custom.exercise_interaction\", \"data\": {\"interactionType\": 3, \"questionType\": 1, \"questionId\": \"4_CandySplitting\", \"learnToolsVersion\": \"0.3.4\", \"valueTowardsCompletion\": 0.0, \"failureMessage\": \"\", \"exceptionClass\": \"\", \"trace\": \"\", \"outcomeType\": 4}}, \"*\")"
      ],
      "text/plain": [
       "<IPython.core.display.Javascript object>"
      ]
     },
     "metadata": {},
     "output_type": "display_data"
    },
    {
     "data": {
      "text/markdown": [
       "<span style=\"color:#33cc99\">Solution:</span> \n",
       "```python\n",
       "(alice_candies + bob_candies + carol_candies) % 3\n",
       "```"
      ],
      "text/plain": [
       "Solution: \n",
       "```python\n",
       "(alice_candies + bob_candies + carol_candies) % 3\n",
       "```"
      ]
     },
     "metadata": {},
     "output_type": "display_data"
    }
   ],
   "source": [
    "q4.hint(2)\n",
    "q4.solution()"
   ]
  },
  {
   "cell_type": "markdown",
   "id": "4cf6862a",
   "metadata": {
    "papermill": {
     "duration": 0.036035,
     "end_time": "2021-08-03T00:56:02.370582",
     "exception": false,
     "start_time": "2021-08-03T00:56:02.334547",
     "status": "completed"
    },
    "tags": []
   },
   "source": [
    "# Keep Going\n",
    "\n",
    "Next up, you'll **[learn to write new functions and understand functions others write](https://www.kaggle.com/colinmorris/functions-and-getting-help)**. This will make you at least 10 times more productive as a Python programmer. "
   ]
  },
  {
   "cell_type": "markdown",
   "id": "eaa97c67",
   "metadata": {
    "papermill": {
     "duration": 0.035809,
     "end_time": "2021-08-03T00:56:02.442838",
     "exception": false,
     "start_time": "2021-08-03T00:56:02.407029",
     "status": "completed"
    },
    "tags": []
   },
   "source": [
    "---\n",
    "\n",
    "\n",
    "\n",
    "\n",
    "*Have questions or comments? Visit the [Learn Discussion forum](https://www.kaggle.com/learn-forum/161283) to chat with other Learners.*"
   ]
  }
 ],
 "metadata": {
  "kernelspec": {
   "display_name": "Python 3",
   "language": "python",
   "name": "python3"
  },
  "language_info": {
   "codemirror_mode": {
    "name": "ipython",
    "version": 3
   },
   "file_extension": ".py",
   "mimetype": "text/x-python",
   "name": "python",
   "nbconvert_exporter": "python",
   "pygments_lexer": "ipython3",
   "version": "3.7.10"
  },
  "papermill": {
   "default_parameters": {},
   "duration": 11.788102,
   "end_time": "2021-08-03T00:56:04.058840",
   "environment_variables": {},
   "exception": null,
   "input_path": "__notebook__.ipynb",
   "output_path": "__notebook__.ipynb",
   "parameters": {},
   "start_time": "2021-08-03T00:55:52.270738",
   "version": "2.3.3"
  }
 },
 "nbformat": 4,
 "nbformat_minor": 5
}
