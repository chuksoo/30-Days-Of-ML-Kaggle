{
 "cells": [
  {
   "cell_type": "markdown",
   "id": "a35be257",
   "metadata": {
    "papermill": {
     "duration": 0.015799,
     "end_time": "2021-08-10T15:11:30.767133",
     "exception": false,
     "start_time": "2021-08-10T15:11:30.751334",
     "status": "completed"
    },
    "tags": []
   },
   "source": [
    "**This notebook is an exercise in the [Intermediate Machine Learning](https://www.kaggle.com/learn/intermediate-machine-learning) course.  You can reference the tutorial at [this link](https://www.kaggle.com/alexisbcook/xgboost).**\n",
    "\n",
    "---\n"
   ]
  },
  {
   "cell_type": "markdown",
   "id": "3a35d982",
   "metadata": {
    "papermill": {
     "duration": 0.014434,
     "end_time": "2021-08-10T15:11:30.796929",
     "exception": false,
     "start_time": "2021-08-10T15:11:30.782495",
     "status": "completed"
    },
    "tags": []
   },
   "source": [
    "In this exercise, you will use your new knowledge to train a model with **gradient boosting**.\n",
    "\n",
    "# Setup\n",
    "\n",
    "The questions below will give you feedback on your work. Run the following cell to set up the feedback system."
   ]
  },
  {
   "cell_type": "code",
   "execution_count": 1,
   "id": "73c8e2bc",
   "metadata": {
    "execution": {
     "iopub.execute_input": "2021-08-10T15:11:30.830497Z",
     "iopub.status.busy": "2021-08-10T15:11:30.829367Z",
     "iopub.status.idle": "2021-08-10T15:11:32.968863Z",
     "shell.execute_reply": "2021-08-10T15:11:32.969552Z",
     "shell.execute_reply.started": "2021-08-10T15:02:09.685116Z"
    },
    "papermill": {
     "duration": 2.158236,
     "end_time": "2021-08-10T15:11:32.969904",
     "exception": false,
     "start_time": "2021-08-10T15:11:30.811668",
     "status": "completed"
    },
    "tags": []
   },
   "outputs": [
    {
     "name": "stdout",
     "output_type": "stream",
     "text": [
      "Setup Complete\n"
     ]
    }
   ],
   "source": [
    "# Set up code checking\n",
    "import os\n",
    "if not os.path.exists(\"../input/train.csv\"):\n",
    "    os.symlink(\"../input/home-data-for-ml-course/train.csv\", \"../input/train.csv\")  \n",
    "    os.symlink(\"../input/home-data-for-ml-course/test.csv\", \"../input/test.csv\") \n",
    "from learntools.core import binder\n",
    "binder.bind(globals())\n",
    "from learntools.ml_intermediate.ex6 import *\n",
    "print(\"Setup Complete\")"
   ]
  },
  {
   "cell_type": "markdown",
   "id": "e0886ba3",
   "metadata": {
    "papermill": {
     "duration": 0.01574,
     "end_time": "2021-08-10T15:11:33.002398",
     "exception": false,
     "start_time": "2021-08-10T15:11:32.986658",
     "status": "completed"
    },
    "tags": []
   },
   "source": [
    "You will work with the [Housing Prices Competition for Kaggle Learn Users](https://www.kaggle.com/c/home-data-for-ml-course) dataset from the previous exercise. \n",
    "\n",
    "![Ames Housing dataset image](https://i.imgur.com/lTJVG4e.png)\n",
    "\n",
    "Run the next code cell without changes to load the training and validation sets in `X_train`, `X_valid`, `y_train`, and `y_valid`.  The test set is loaded in `X_test`."
   ]
  },
  {
   "cell_type": "code",
   "execution_count": 2,
   "id": "bdea7902",
   "metadata": {
    "execution": {
     "iopub.execute_input": "2021-08-10T15:11:33.044327Z",
     "iopub.status.busy": "2021-08-10T15:11:33.043592Z",
     "iopub.status.idle": "2021-08-10T15:11:33.273957Z",
     "shell.execute_reply": "2021-08-10T15:11:33.273390Z",
     "shell.execute_reply.started": "2021-08-10T15:02:10.645941Z"
    },
    "papermill": {
     "duration": 0.256235,
     "end_time": "2021-08-10T15:11:33.274113",
     "exception": false,
     "start_time": "2021-08-10T15:11:33.017878",
     "status": "completed"
    },
    "tags": []
   },
   "outputs": [],
   "source": [
    "import pandas as pd\n",
    "from sklearn.model_selection import train_test_split\n",
    "\n",
    "# Read the data\n",
    "X = pd.read_csv('../input/train.csv', index_col='Id')\n",
    "X_test_full = pd.read_csv('../input/test.csv', index_col='Id')\n",
    "\n",
    "# Remove rows with missing target, separate target from predictors\n",
    "X.dropna(axis=0, subset=['SalePrice'], inplace=True)\n",
    "y = X.SalePrice              \n",
    "X.drop(['SalePrice'], axis=1, inplace=True)\n",
    "\n",
    "# Break off validation set from training data\n",
    "X_train_full, X_valid_full, y_train, y_valid = train_test_split(X, y, train_size=0.8, test_size=0.2,\n",
    "                                                                random_state=0)\n",
    "\n",
    "# \"Cardinality\" means the number of unique values in a column\n",
    "# Select categorical columns with relatively low cardinality (convenient but arbitrary)\n",
    "low_cardinality_cols = [cname for cname in X_train_full.columns if X_train_full[cname].nunique() < 10 and \n",
    "                        X_train_full[cname].dtype == \"object\"]\n",
    "\n",
    "# Select numeric columns\n",
    "numeric_cols = [cname for cname in X_train_full.columns if X_train_full[cname].dtype in ['int64', 'float64']]\n",
    "\n",
    "# Keep selected columns only\n",
    "my_cols = low_cardinality_cols + numeric_cols\n",
    "X_train = X_train_full[my_cols].copy()\n",
    "X_valid = X_valid_full[my_cols].copy()\n",
    "X_test = X_test_full[my_cols].copy()\n",
    "\n",
    "# One-hot encode the data (to shorten the code, we use pandas)\n",
    "X_train = pd.get_dummies(X_train)\n",
    "X_valid = pd.get_dummies(X_valid)\n",
    "X_test = pd.get_dummies(X_test)\n",
    "X_train, X_valid = X_train.align(X_valid, join='left', axis=1)\n",
    "X_train, X_test = X_train.align(X_test, join='left', axis=1)"
   ]
  },
  {
   "cell_type": "markdown",
   "id": "071832d0",
   "metadata": {
    "papermill": {
     "duration": 0.015017,
     "end_time": "2021-08-10T15:11:33.304569",
     "exception": false,
     "start_time": "2021-08-10T15:11:33.289552",
     "status": "completed"
    },
    "tags": []
   },
   "source": [
    "# Step 1: Build model\n",
    "\n",
    "### Part A\n",
    "\n",
    "In this step, you'll build and train your first model with gradient boosting.\n",
    "\n",
    "- Begin by setting `my_model_1` to an XGBoost model.  Use the [XGBRegressor](https://xgboost.readthedocs.io/en/latest/python/python_api.html#xgboost.XGBRegressor) class, and set the random seed to 0 (`random_state=0`).  **Leave all other parameters as default.**\n",
    "- Then, fit the model to the training data in `X_train` and `y_train`."
   ]
  },
  {
   "cell_type": "code",
   "execution_count": 3,
   "id": "e4e26232",
   "metadata": {
    "execution": {
     "iopub.execute_input": "2021-08-10T15:11:33.340628Z",
     "iopub.status.busy": "2021-08-10T15:11:33.339720Z",
     "iopub.status.idle": "2021-08-10T15:11:34.035988Z",
     "shell.execute_reply": "2021-08-10T15:11:34.036558Z",
     "shell.execute_reply.started": "2021-08-10T15:03:16.495198Z"
    },
    "papermill": {
     "duration": 0.716761,
     "end_time": "2021-08-10T15:11:34.036749",
     "exception": false,
     "start_time": "2021-08-10T15:11:33.319988",
     "status": "completed"
    },
    "tags": []
   },
   "outputs": [
    {
     "data": {
      "application/javascript": [
       "parent.postMessage({\"jupyterEvent\": \"custom.exercise_interaction\", \"data\": {\"outcomeType\": 1, \"valueTowardsCompletion\": 0.5, \"interactionType\": 1, \"questionType\": 2, \"questionId\": \"1.1_Model1A\", \"learnToolsVersion\": \"0.3.4\", \"failureMessage\": \"\", \"exceptionClass\": \"\", \"trace\": \"\"}}, \"*\")"
      ],
      "text/plain": [
       "<IPython.core.display.Javascript object>"
      ]
     },
     "metadata": {},
     "output_type": "display_data"
    },
    {
     "data": {
      "text/markdown": [
       "<span style=\"color:#33cc33\">Correct</span>"
      ],
      "text/plain": [
       "Correct"
      ]
     },
     "metadata": {},
     "output_type": "display_data"
    }
   ],
   "source": [
    "from xgboost import XGBRegressor\n",
    "\n",
    "# Define the model\n",
    "my_model_1 = XGBRegressor()\n",
    "\n",
    "# Fit the model\n",
    "my_model_1.fit(X_train, y_train)\n",
    "\n",
    "# Check your answer\n",
    "step_1.a.check()"
   ]
  },
  {
   "cell_type": "code",
   "execution_count": 4,
   "id": "6fb39361",
   "metadata": {
    "execution": {
     "iopub.execute_input": "2021-08-10T15:11:34.074180Z",
     "iopub.status.busy": "2021-08-10T15:11:34.073455Z",
     "iopub.status.idle": "2021-08-10T15:11:34.076420Z",
     "shell.execute_reply": "2021-08-10T15:11:34.076917Z"
    },
    "papermill": {
     "duration": 0.022448,
     "end_time": "2021-08-10T15:11:34.077079",
     "exception": false,
     "start_time": "2021-08-10T15:11:34.054631",
     "status": "completed"
    },
    "tags": []
   },
   "outputs": [],
   "source": [
    "# Lines below will give you a hint or solution code\n",
    "#step_1.a.hint()\n",
    "#step_1.a.solution()"
   ]
  },
  {
   "cell_type": "markdown",
   "id": "8018bacb",
   "metadata": {
    "papermill": {
     "duration": 0.016215,
     "end_time": "2021-08-10T15:11:34.109975",
     "exception": false,
     "start_time": "2021-08-10T15:11:34.093760",
     "status": "completed"
    },
    "tags": []
   },
   "source": [
    "### Part B\n",
    "\n",
    "Set `predictions_1` to the model's predictions for the validation data.  Recall that the validation features are stored in `X_valid`."
   ]
  },
  {
   "cell_type": "code",
   "execution_count": 5,
   "id": "45b2f72d",
   "metadata": {
    "execution": {
     "iopub.execute_input": "2021-08-10T15:11:34.148029Z",
     "iopub.status.busy": "2021-08-10T15:11:34.147329Z",
     "iopub.status.idle": "2021-08-10T15:11:34.159205Z",
     "shell.execute_reply": "2021-08-10T15:11:34.159735Z",
     "shell.execute_reply.started": "2021-08-10T15:03:45.801302Z"
    },
    "papermill": {
     "duration": 0.033442,
     "end_time": "2021-08-10T15:11:34.159937",
     "exception": false,
     "start_time": "2021-08-10T15:11:34.126495",
     "status": "completed"
    },
    "tags": []
   },
   "outputs": [
    {
     "data": {
      "application/javascript": [
       "parent.postMessage({\"jupyterEvent\": \"custom.exercise_interaction\", \"data\": {\"outcomeType\": 1, \"valueTowardsCompletion\": 0.5, \"interactionType\": 1, \"questionType\": 2, \"questionId\": \"1.2_Model1B\", \"learnToolsVersion\": \"0.3.4\", \"failureMessage\": \"\", \"exceptionClass\": \"\", \"trace\": \"\"}}, \"*\")"
      ],
      "text/plain": [
       "<IPython.core.display.Javascript object>"
      ]
     },
     "metadata": {},
     "output_type": "display_data"
    },
    {
     "data": {
      "text/markdown": [
       "<span style=\"color:#33cc33\">Correct</span>"
      ],
      "text/plain": [
       "Correct"
      ]
     },
     "metadata": {},
     "output_type": "display_data"
    }
   ],
   "source": [
    "from sklearn.metrics import mean_absolute_error\n",
    "\n",
    "# Get predictions\n",
    "predictions_1 = my_model_1.predict(X_valid)\n",
    "\n",
    "# Check your answer\n",
    "step_1.b.check()"
   ]
  },
  {
   "cell_type": "code",
   "execution_count": 6,
   "id": "0d098bc9",
   "metadata": {
    "execution": {
     "iopub.execute_input": "2021-08-10T15:11:34.200126Z",
     "iopub.status.busy": "2021-08-10T15:11:34.199425Z",
     "iopub.status.idle": "2021-08-10T15:11:34.201590Z",
     "shell.execute_reply": "2021-08-10T15:11:34.201027Z"
    },
    "papermill": {
     "duration": 0.0232,
     "end_time": "2021-08-10T15:11:34.201734",
     "exception": false,
     "start_time": "2021-08-10T15:11:34.178534",
     "status": "completed"
    },
    "tags": []
   },
   "outputs": [],
   "source": [
    "# Lines below will give you a hint or solution code\n",
    "#step_1.b.hint()\n",
    "#step_1.b.solution()"
   ]
  },
  {
   "cell_type": "markdown",
   "id": "a03f347e",
   "metadata": {
    "papermill": {
     "duration": 0.017436,
     "end_time": "2021-08-10T15:11:34.236921",
     "exception": false,
     "start_time": "2021-08-10T15:11:34.219485",
     "status": "completed"
    },
    "tags": []
   },
   "source": [
    "### Part C\n",
    "\n",
    "Finally, use the `mean_absolute_error()` function to calculate the mean absolute error (MAE) corresponding to the predictions for the validation set.  Recall that the labels for the validation data are stored in `y_valid`."
   ]
  },
  {
   "cell_type": "code",
   "execution_count": 7,
   "id": "c9e0bed4",
   "metadata": {
    "execution": {
     "iopub.execute_input": "2021-08-10T15:11:34.275727Z",
     "iopub.status.busy": "2021-08-10T15:11:34.275043Z",
     "iopub.status.idle": "2021-08-10T15:11:34.285218Z",
     "shell.execute_reply": "2021-08-10T15:11:34.284586Z",
     "shell.execute_reply.started": "2021-08-10T15:04:35.012892Z"
    },
    "papermill": {
     "duration": 0.030459,
     "end_time": "2021-08-10T15:11:34.285377",
     "exception": false,
     "start_time": "2021-08-10T15:11:34.254918",
     "status": "completed"
    },
    "tags": []
   },
   "outputs": [
    {
     "name": "stdout",
     "output_type": "stream",
     "text": [
      "Mean Absolute Error: 17662.736729452055\n"
     ]
    },
    {
     "data": {
      "application/javascript": [
       "parent.postMessage({\"jupyterEvent\": \"custom.exercise_interaction\", \"data\": {\"outcomeType\": 1, \"valueTowardsCompletion\": 0.5, \"interactionType\": 1, \"questionType\": 2, \"questionId\": \"1.3_Model1C\", \"learnToolsVersion\": \"0.3.4\", \"failureMessage\": \"\", \"exceptionClass\": \"\", \"trace\": \"\"}}, \"*\")"
      ],
      "text/plain": [
       "<IPython.core.display.Javascript object>"
      ]
     },
     "metadata": {},
     "output_type": "display_data"
    },
    {
     "data": {
      "text/markdown": [
       "<span style=\"color:#33cc33\">Correct</span>"
      ],
      "text/plain": [
       "Correct"
      ]
     },
     "metadata": {},
     "output_type": "display_data"
    }
   ],
   "source": [
    "# Calculate MAE\n",
    "mae_1 = mean_absolute_error(predictions_1, y_valid)\n",
    "\n",
    "# Uncomment to print MAE\n",
    "print(\"Mean Absolute Error:\" , mae_1)\n",
    "\n",
    "# Check your answer\n",
    "step_1.c.check()"
   ]
  },
  {
   "cell_type": "code",
   "execution_count": 8,
   "id": "e16e2e48",
   "metadata": {
    "execution": {
     "iopub.execute_input": "2021-08-10T15:11:34.327242Z",
     "iopub.status.busy": "2021-08-10T15:11:34.326520Z",
     "iopub.status.idle": "2021-08-10T15:11:34.329106Z",
     "shell.execute_reply": "2021-08-10T15:11:34.329606Z"
    },
    "papermill": {
     "duration": 0.025464,
     "end_time": "2021-08-10T15:11:34.329784",
     "exception": false,
     "start_time": "2021-08-10T15:11:34.304320",
     "status": "completed"
    },
    "tags": []
   },
   "outputs": [],
   "source": [
    "# Lines below will give you a hint or solution code\n",
    "#step_1.c.hint()\n",
    "#step_1.c.solution()"
   ]
  },
  {
   "cell_type": "markdown",
   "id": "7ec77408",
   "metadata": {
    "papermill": {
     "duration": 0.018834,
     "end_time": "2021-08-10T15:11:34.367943",
     "exception": false,
     "start_time": "2021-08-10T15:11:34.349109",
     "status": "completed"
    },
    "tags": []
   },
   "source": [
    "# Step 2: Improve the model\n",
    "\n",
    "Now that you've trained a default model as baseline, it's time to tinker with the parameters, to see if you can get better performance!\n",
    "- Begin by setting `my_model_2` to an XGBoost model, using the [XGBRegressor](https://xgboost.readthedocs.io/en/latest/python/python_api.html#xgboost.XGBRegressor) class.  Use what you learned in the previous tutorial to figure out how to change the default parameters (like `n_estimators` and `learning_rate`) to get better results.\n",
    "- Then, fit the model to the training data in `X_train` and `y_train`.\n",
    "- Set `predictions_2` to the model's predictions for the validation data.  Recall that the validation features are stored in `X_valid`.\n",
    "- Finally, use the `mean_absolute_error()` function to calculate the mean absolute error (MAE) corresponding to the predictions on the validation set.  Recall that the labels for the validation data are stored in `y_valid`.\n",
    "\n",
    "In order for this step to be marked correct, your model in `my_model_2` must attain lower MAE than the model in `my_model_1`. "
   ]
  },
  {
   "cell_type": "code",
   "execution_count": 9,
   "id": "09d0053f",
   "metadata": {
    "execution": {
     "iopub.execute_input": "2021-08-10T15:11:34.418769Z",
     "iopub.status.busy": "2021-08-10T15:11:34.417821Z",
     "iopub.status.idle": "2021-08-10T15:11:36.913772Z",
     "shell.execute_reply": "2021-08-10T15:11:36.914849Z",
     "shell.execute_reply.started": "2021-08-10T15:10:59.841260Z"
    },
    "papermill": {
     "duration": 2.527777,
     "end_time": "2021-08-10T15:11:36.915055",
     "exception": false,
     "start_time": "2021-08-10T15:11:34.387278",
     "status": "completed"
    },
    "tags": []
   },
   "outputs": [
    {
     "name": "stdout",
     "output_type": "stream",
     "text": [
      "Mean Absolute Error: 16802.965325342466\n"
     ]
    },
    {
     "data": {
      "application/javascript": [
       "parent.postMessage({\"jupyterEvent\": \"custom.exercise_interaction\", \"data\": {\"outcomeType\": 1, \"valueTowardsCompletion\": 0.5, \"interactionType\": 1, \"questionType\": 2, \"questionId\": \"2_Model2\", \"learnToolsVersion\": \"0.3.4\", \"failureMessage\": \"\", \"exceptionClass\": \"\", \"trace\": \"\"}}, \"*\")"
      ],
      "text/plain": [
       "<IPython.core.display.Javascript object>"
      ]
     },
     "metadata": {},
     "output_type": "display_data"
    },
    {
     "data": {
      "text/markdown": [
       "<span style=\"color:#33cc33\">Correct</span>"
      ],
      "text/plain": [
       "Correct"
      ]
     },
     "metadata": {},
     "output_type": "display_data"
    }
   ],
   "source": [
    "# Define the model\n",
    "my_model_2 = XGBRegressor(n_estimators=500, learning_rate=0.05)\n",
    "\n",
    "# Fit the model\n",
    "my_model_2.fit(X_train, y_train,\n",
    "              early_stopping_rounds=5,\n",
    "              eval_set=[(X_valid, y_valid)],\n",
    "              verbose=False)\n",
    "\n",
    "# Get predictions\n",
    "predictions_2 = my_model_2.predict(X_valid)\n",
    "\n",
    "# Calculate MAE\n",
    "mae_2 = mean_absolute_error(predictions_2, y_valid)\n",
    "\n",
    "# Uncomment to print MAE\n",
    "print(\"Mean Absolute Error:\" , mae_2)\n",
    "\n",
    "# Check your answer\n",
    "step_2.check()"
   ]
  },
  {
   "cell_type": "code",
   "execution_count": 10,
   "id": "2e5e8c51",
   "metadata": {
    "execution": {
     "iopub.execute_input": "2021-08-10T15:11:36.960651Z",
     "iopub.status.busy": "2021-08-10T15:11:36.959696Z",
     "iopub.status.idle": "2021-08-10T15:11:36.962316Z",
     "shell.execute_reply": "2021-08-10T15:11:36.961789Z"
    },
    "papermill": {
     "duration": 0.026822,
     "end_time": "2021-08-10T15:11:36.962449",
     "exception": false,
     "start_time": "2021-08-10T15:11:36.935627",
     "status": "completed"
    },
    "tags": []
   },
   "outputs": [],
   "source": [
    "# Lines below will give you a hint or solution code\n",
    "#step_2.hint()\n",
    "#step_2.solution()"
   ]
  },
  {
   "cell_type": "markdown",
   "id": "71b93db5",
   "metadata": {
    "papermill": {
     "duration": 0.019909,
     "end_time": "2021-08-10T15:11:37.002617",
     "exception": false,
     "start_time": "2021-08-10T15:11:36.982708",
     "status": "completed"
    },
    "tags": []
   },
   "source": [
    "# Step 3: Break the model\n",
    "\n",
    "In this step, you will create a model that performs worse than the original model in Step 1.  This will help you to develop your intuition for how to set parameters.  You might even find that you accidentally get better performance, which is ultimately a nice problem to have and a valuable learning experience!\n",
    "- Begin by setting `my_model_3` to an XGBoost model, using the [XGBRegressor](https://xgboost.readthedocs.io/en/latest/python/python_api.html#xgboost.XGBRegressor) class.  Use what you learned in the previous tutorial to figure out how to change the default parameters (like `n_estimators` and `learning_rate`) to design a model to get high MAE.\n",
    "- Then, fit the model to the training data in `X_train` and `y_train`.\n",
    "- Set `predictions_3` to the model's predictions for the validation data.  Recall that the validation features are stored in `X_valid`.\n",
    "- Finally, use the `mean_absolute_error()` function to calculate the mean absolute error (MAE) corresponding to the predictions on the validation set.  Recall that the labels for the validation data are stored in `y_valid`.\n",
    "\n",
    "In order for this step to be marked correct, your model in `my_model_3` must attain higher MAE than the model in `my_model_1`. "
   ]
  },
  {
   "cell_type": "code",
   "execution_count": 11,
   "id": "84ac27e1",
   "metadata": {
    "execution": {
     "iopub.execute_input": "2021-08-10T15:11:37.055967Z",
     "iopub.status.busy": "2021-08-10T15:11:37.055073Z",
     "iopub.status.idle": "2021-08-10T15:11:37.169459Z",
     "shell.execute_reply": "2021-08-10T15:11:37.170337Z",
     "shell.execute_reply.started": "2021-08-10T15:10:29.811008Z"
    },
    "papermill": {
     "duration": 0.147518,
     "end_time": "2021-08-10T15:11:37.170529",
     "exception": false,
     "start_time": "2021-08-10T15:11:37.023011",
     "status": "completed"
    },
    "tags": []
   },
   "outputs": [
    {
     "name": "stdout",
     "output_type": "stream",
     "text": [
      "Mean Absolute Error: 25388.798573951197\n"
     ]
    },
    {
     "data": {
      "application/javascript": [
       "parent.postMessage({\"jupyterEvent\": \"custom.exercise_interaction\", \"data\": {\"outcomeType\": 1, \"valueTowardsCompletion\": 0.5, \"interactionType\": 1, \"questionType\": 2, \"questionId\": \"3_Model3\", \"learnToolsVersion\": \"0.3.4\", \"failureMessage\": \"\", \"exceptionClass\": \"\", \"trace\": \"\"}}, \"*\")"
      ],
      "text/plain": [
       "<IPython.core.display.Javascript object>"
      ]
     },
     "metadata": {},
     "output_type": "display_data"
    },
    {
     "data": {
      "text/markdown": [
       "<span style=\"color:#33cc33\">Correct</span>"
      ],
      "text/plain": [
       "Correct"
      ]
     },
     "metadata": {},
     "output_type": "display_data"
    }
   ],
   "source": [
    "# Define the model\n",
    "my_model_3 = XGBRegressor(n_estimators=1000, learning_rate=1)\n",
    "\n",
    "# Fit the model\n",
    "my_model_3.fit(X_train, y_train,\n",
    "              early_stopping_rounds=5,\n",
    "              eval_set=[(X_valid, y_valid)],\n",
    "              verbose=False)\n",
    "\n",
    "# Get predictions\n",
    "predictions_3 = my_model_3.predict(X_valid)\n",
    "\n",
    "# Calculate MAE\n",
    "mae_3 = mean_absolute_error(predictions_3, y_valid)\n",
    "\n",
    "# Uncomment to print MAE\n",
    "print(\"Mean Absolute Error:\" , mae_3)\n",
    "\n",
    "# Check your answer\n",
    "step_3.check()"
   ]
  },
  {
   "cell_type": "code",
   "execution_count": 12,
   "id": "00f87fac",
   "metadata": {
    "execution": {
     "iopub.execute_input": "2021-08-10T15:11:37.218888Z",
     "iopub.status.busy": "2021-08-10T15:11:37.218256Z",
     "iopub.status.idle": "2021-08-10T15:11:37.220606Z",
     "shell.execute_reply": "2021-08-10T15:11:37.221046Z"
    },
    "papermill": {
     "duration": 0.027998,
     "end_time": "2021-08-10T15:11:37.221210",
     "exception": false,
     "start_time": "2021-08-10T15:11:37.193212",
     "status": "completed"
    },
    "tags": []
   },
   "outputs": [],
   "source": [
    "# Lines below will give you a hint or solution code\n",
    "#step_3.hint()\n",
    "#step_3.solution()"
   ]
  },
  {
   "cell_type": "markdown",
   "id": "d8735f11",
   "metadata": {
    "papermill": {
     "duration": 0.021223,
     "end_time": "2021-08-10T15:11:37.264076",
     "exception": false,
     "start_time": "2021-08-10T15:11:37.242853",
     "status": "completed"
    },
    "tags": []
   },
   "source": [
    "# Keep going\n",
    "\n",
    "Continue to learn about **[data leakage](https://www.kaggle.com/alexisbcook/data-leakage)**.  This is an important issue for a data scientist to understand, and it has the potential to ruin your models in subtle and dangerous ways!"
   ]
  },
  {
   "cell_type": "markdown",
   "id": "57a640b0",
   "metadata": {
    "papermill": {
     "duration": 0.021179,
     "end_time": "2021-08-10T15:11:37.306879",
     "exception": false,
     "start_time": "2021-08-10T15:11:37.285700",
     "status": "completed"
    },
    "tags": []
   },
   "source": [
    "---\n",
    "\n",
    "\n",
    "\n",
    "\n",
    "*Have questions or comments? Visit the [Learn Discussion forum](https://www.kaggle.com/learn-forum/161289) to chat with other Learners.*"
   ]
  }
 ],
 "metadata": {
  "kernelspec": {
   "display_name": "Python 3",
   "language": "python",
   "name": "python3"
  },
  "language_info": {
   "codemirror_mode": {
    "name": "ipython",
    "version": 3
   },
   "file_extension": ".py",
   "mimetype": "text/x-python",
   "name": "python",
   "nbconvert_exporter": "python",
   "pygments_lexer": "ipython3",
   "version": "3.7.10"
  },
  "papermill": {
   "default_parameters": {},
   "duration": 15.430715,
   "end_time": "2021-08-10T15:11:38.037954",
   "environment_variables": {},
   "exception": null,
   "input_path": "__notebook__.ipynb",
   "output_path": "__notebook__.ipynb",
   "parameters": {},
   "start_time": "2021-08-10T15:11:22.607239",
   "version": "2.3.3"
  }
 },
 "nbformat": 4,
 "nbformat_minor": 5
}
