{
 "cells": [
  {
   "cell_type": "markdown",
   "id": "034157d4",
   "metadata": {
    "papermill": {
     "duration": 0.013312,
     "end_time": "2021-08-04T00:16:05.263474",
     "exception": false,
     "start_time": "2021-08-04T00:16:05.250162",
     "status": "completed"
    },
    "tags": []
   },
   "source": [
    "**This notebook is an exercise in the [Python](https://www.kaggle.com/learn/python) course.  You can reference the tutorial at [this link](https://www.kaggle.com/colinmorris/functions-and-getting-help).**\n",
    "\n",
    "---\n"
   ]
  },
  {
   "cell_type": "markdown",
   "id": "ad22dbc8",
   "metadata": {
    "papermill": {
     "duration": 0.011951,
     "end_time": "2021-08-04T00:16:05.288328",
     "exception": false,
     "start_time": "2021-08-04T00:16:05.276377",
     "status": "completed"
    },
    "tags": []
   },
   "source": [
    "Functions are powerful. Try writing some yourself.\n",
    "\n",
    "As before, don't forget to run the setup code below before jumping into question 1."
   ]
  },
  {
   "cell_type": "code",
   "execution_count": 1,
   "id": "ea0194ac",
   "metadata": {
    "_kg_hide-input": true,
    "_kg_hide-output": true,
    "execution": {
     "iopub.execute_input": "2021-08-04T00:16:05.324406Z",
     "iopub.status.busy": "2021-08-04T00:16:05.321491Z",
     "iopub.status.idle": "2021-08-04T00:16:05.452493Z",
     "shell.execute_reply": "2021-08-04T00:16:05.453356Z",
     "shell.execute_reply.started": "2021-08-04T00:15:25.761009Z"
    },
    "papermill": {
     "duration": 0.153171,
     "end_time": "2021-08-04T00:16:05.453759",
     "exception": false,
     "start_time": "2021-08-04T00:16:05.300588",
     "status": "completed"
    },
    "tags": []
   },
   "outputs": [
    {
     "name": "stdout",
     "output_type": "stream",
     "text": [
      "Setup complete.\n"
     ]
    }
   ],
   "source": [
    "# SETUP. You don't need to worry for now about what this code does or how it works.\n",
    "from learntools.core import binder; binder.bind(globals())\n",
    "from learntools.python.ex2 import *\n",
    "print('Setup complete.')"
   ]
  },
  {
   "cell_type": "markdown",
   "id": "417d9318",
   "metadata": {
    "papermill": {
     "duration": 0.013081,
     "end_time": "2021-08-04T00:16:05.480503",
     "exception": false,
     "start_time": "2021-08-04T00:16:05.467422",
     "status": "completed"
    },
    "tags": []
   },
   "source": [
    "# 1.\n",
    "\n",
    "Complete the body of the following function according to its docstring.\n",
    "\n",
    "HINT: Python has a built-in function `round`."
   ]
  },
  {
   "cell_type": "code",
   "execution_count": 2,
   "id": "03453525",
   "metadata": {
    "execution": {
     "iopub.execute_input": "2021-08-04T00:16:05.515086Z",
     "iopub.status.busy": "2021-08-04T00:16:05.514417Z",
     "iopub.status.idle": "2021-08-04T00:16:05.520120Z",
     "shell.execute_reply": "2021-08-04T00:16:05.519539Z",
     "shell.execute_reply.started": "2021-08-04T00:15:25.863109Z"
    },
    "papermill": {
     "duration": 0.026626,
     "end_time": "2021-08-04T00:16:05.520256",
     "exception": false,
     "start_time": "2021-08-04T00:16:05.493630",
     "status": "completed"
    },
    "tags": []
   },
   "outputs": [
    {
     "data": {
      "application/javascript": [
       "parent.postMessage({\"jupyterEvent\": \"custom.exercise_interaction\", \"data\": {\"outcomeType\": 1, \"valueTowardsCompletion\": 0.16666666666666666, \"interactionType\": 1, \"questionType\": 2, \"questionId\": \"1_RoundFunctionProblem\", \"learnToolsVersion\": \"0.3.4\", \"failureMessage\": \"\", \"exceptionClass\": \"\", \"trace\": \"\"}}, \"*\")"
      ],
      "text/plain": [
       "<IPython.core.display.Javascript object>"
      ]
     },
     "metadata": {},
     "output_type": "display_data"
    },
    {
     "data": {
      "text/markdown": [
       "<span style=\"color:#33cc33\">Correct</span>"
      ],
      "text/plain": [
       "Correct"
      ]
     },
     "metadata": {},
     "output_type": "display_data"
    }
   ],
   "source": [
    "def round_to_two_places(num):\n",
    "    \"\"\"Return the given number rounded to two decimal places. \n",
    "    \n",
    "    >>> round_to_two_places(3.14159)\n",
    "    3.14\n",
    "    \"\"\"\n",
    "    # Replace this body with your own code.\n",
    "    # (\"pass\" is a keyword that does literally nothing. We used it as a placeholder\n",
    "    # because after we begin a code block, Python requires at least one line of code)\n",
    "    value = round(num, ndigits=2)\n",
    "    return value\n",
    "\n",
    "# Check your answer\n",
    "q1.check()"
   ]
  },
  {
   "cell_type": "code",
   "execution_count": 3,
   "id": "a469961f",
   "metadata": {
    "execution": {
     "iopub.execute_input": "2021-08-04T00:16:05.552636Z",
     "iopub.status.busy": "2021-08-04T00:16:05.551926Z",
     "iopub.status.idle": "2021-08-04T00:16:05.555591Z",
     "shell.execute_reply": "2021-08-04T00:16:05.555030Z",
     "shell.execute_reply.started": "2021-08-04T00:15:25.876520Z"
    },
    "papermill": {
     "duration": 0.02187,
     "end_time": "2021-08-04T00:16:05.555718",
     "exception": false,
     "start_time": "2021-08-04T00:16:05.533848",
     "status": "completed"
    },
    "tags": []
   },
   "outputs": [
    {
     "name": "stdout",
     "output_type": "stream",
     "text": [
      "Help on built-in function round in module builtins:\n",
      "\n",
      "round(number, ndigits=None)\n",
      "    Round a number to a given precision in decimal digits.\n",
      "    \n",
      "    The return value is an integer if ndigits is omitted or None.  Otherwise\n",
      "    the return value has the same type as the number.  ndigits may be negative.\n",
      "\n"
     ]
    }
   ],
   "source": [
    "help(round)"
   ]
  },
  {
   "cell_type": "code",
   "execution_count": 4,
   "id": "abe830a3",
   "metadata": {
    "execution": {
     "iopub.execute_input": "2021-08-04T00:16:05.588190Z",
     "iopub.status.busy": "2021-08-04T00:16:05.587223Z",
     "iopub.status.idle": "2021-08-04T00:16:05.591793Z",
     "shell.execute_reply": "2021-08-04T00:16:05.592385Z",
     "shell.execute_reply.started": "2021-08-04T00:15:25.891121Z"
    },
    "papermill": {
     "duration": 0.023107,
     "end_time": "2021-08-04T00:16:05.592556",
     "exception": false,
     "start_time": "2021-08-04T00:16:05.569449",
     "status": "completed"
    },
    "tags": []
   },
   "outputs": [
    {
     "data": {
      "application/javascript": [
       "parent.postMessage({\"jupyterEvent\": \"custom.exercise_interaction\", \"data\": {\"interactionType\": 3, \"questionType\": 2, \"questionId\": \"1_RoundFunctionProblem\", \"learnToolsVersion\": \"0.3.4\", \"valueTowardsCompletion\": 0.0, \"failureMessage\": \"\", \"exceptionClass\": \"\", \"trace\": \"\", \"outcomeType\": 4}}, \"*\")"
      ],
      "text/plain": [
       "<IPython.core.display.Javascript object>"
      ]
     },
     "metadata": {},
     "output_type": "display_data"
    },
    {
     "data": {
      "text/markdown": [
       "<span style=\"color:#33cc99\">Solution:</span> \n",
       "```python\n",
       "return round(num, 2)\n",
       "```"
      ],
      "text/plain": [
       "Solution: \n",
       "```python\n",
       "return round(num, 2)\n",
       "```"
      ]
     },
     "metadata": {},
     "output_type": "display_data"
    }
   ],
   "source": [
    "# Uncomment the following for a hint\n",
    "#q1.hint()\n",
    "# Or uncomment the following to peek at the solution\n",
    "q1.solution()"
   ]
  },
  {
   "cell_type": "markdown",
   "id": "d9ca09ba",
   "metadata": {
    "papermill": {
     "duration": 0.014114,
     "end_time": "2021-08-04T00:16:05.621130",
     "exception": false,
     "start_time": "2021-08-04T00:16:05.607016",
     "status": "completed"
    },
    "tags": []
   },
   "source": [
    "# 2.\n",
    "The help for `round` says that `ndigits` (the second argument) may be negative.\n",
    "What do you think will happen when it is? Try some examples in the following cell."
   ]
  },
  {
   "cell_type": "code",
   "execution_count": 5,
   "id": "f5af0b74",
   "metadata": {
    "execution": {
     "iopub.execute_input": "2021-08-04T00:16:05.654775Z",
     "iopub.status.busy": "2021-08-04T00:16:05.654186Z",
     "iopub.status.idle": "2021-08-04T00:16:05.658119Z",
     "shell.execute_reply": "2021-08-04T00:16:05.657605Z",
     "shell.execute_reply.started": "2021-08-04T00:15:25.903724Z"
    },
    "papermill": {
     "duration": 0.022712,
     "end_time": "2021-08-04T00:16:05.658254",
     "exception": false,
     "start_time": "2021-08-04T00:16:05.635542",
     "status": "completed"
    },
    "tags": []
   },
   "outputs": [
    {
     "name": "stdout",
     "output_type": "stream",
     "text": [
      "338400\n"
     ]
    }
   ],
   "source": [
    "# Put your test code here\n",
    "def round_to_nearest_hundred(num):\n",
    "    \"\"\"Rounds to the nearest 100\n",
    "    \n",
    "    >>> round_to_nearest_hundred(338424)\n",
    "    338000    \n",
    "    \"\"\"\n",
    "    value = round(num, ndigits=-2)\n",
    "    return value\n",
    "\n",
    "print(round_to_nearest_hundred(338424))"
   ]
  },
  {
   "cell_type": "markdown",
   "id": "9e509ed8",
   "metadata": {
    "papermill": {
     "duration": 0.014219,
     "end_time": "2021-08-04T00:16:05.687179",
     "exception": false,
     "start_time": "2021-08-04T00:16:05.672960",
     "status": "completed"
    },
    "tags": []
   },
   "source": [
    "Can you think of a case where this would be useful?  Once you're ready, run the code cell below to see the answer and to receive credit for completing the problem."
   ]
  },
  {
   "cell_type": "code",
   "execution_count": 6,
   "id": "76543607",
   "metadata": {
    "execution": {
     "iopub.execute_input": "2021-08-04T00:16:05.720851Z",
     "iopub.status.busy": "2021-08-04T00:16:05.720282Z",
     "iopub.status.idle": "2021-08-04T00:16:05.725958Z",
     "shell.execute_reply": "2021-08-04T00:16:05.725400Z",
     "shell.execute_reply.started": "2021-08-04T00:15:25.915594Z"
    },
    "papermill": {
     "duration": 0.024408,
     "end_time": "2021-08-04T00:16:05.726132",
     "exception": false,
     "start_time": "2021-08-04T00:16:05.701724",
     "status": "completed"
    },
    "tags": []
   },
   "outputs": [
    {
     "data": {
      "application/javascript": [
       "parent.postMessage({\"jupyterEvent\": \"custom.exercise_interaction\", \"data\": {\"interactionType\": 3, \"questionType\": 4, \"questionId\": \"2_RoundNdigitsProblem\", \"learnToolsVersion\": \"0.3.4\", \"valueTowardsCompletion\": 0.0, \"failureMessage\": \"\", \"exceptionClass\": \"\", \"trace\": \"\", \"outcomeType\": 4}}, \"*\")"
      ],
      "text/plain": [
       "<IPython.core.display.Javascript object>"
      ]
     },
     "metadata": {},
     "output_type": "display_data"
    },
    {
     "data": {
      "text/markdown": [
       "<span style=\"color:#33cc99\">Solution:</span> As you've seen, `ndigits=-1` rounds to the nearest 10, `ndigits=-2` rounds to the nearest 100 and so on. Where might this be useful? Suppose we're dealing with large numbers:\n",
       "\n",
       "> The area of Finland is 338,424 km²  \n",
       "> The area of Greenland is 2,166,086 km²\n",
       "\n",
       "We probably don't care whether it's really 338,424, or 338,425, or 338,177. All those digits of accuracy are just distracting. We can chop them off by calling `round()` with `ndigits=-3`:\n",
       "\n",
       "> The area of Finland is 338,000 km²  \n",
       "> The area of Greenland is 2,166,000 km²\n",
       "\n",
       "(We'll talk about how we would get the commas later when we talk about string formatting :))\n"
      ],
      "text/plain": [
       "Solution: As you've seen, `ndigits=-1` rounds to the nearest 10, `ndigits=-2` rounds to the nearest 100 and so on. Where might this be useful? Suppose we're dealing with large numbers:\n",
       "\n",
       "> The area of Finland is 338,424 km²  \n",
       "> The area of Greenland is 2,166,086 km²\n",
       "\n",
       "We probably don't care whether it's really 338,424, or 338,425, or 338,177. All those digits of accuracy are just distracting. We can chop them off by calling `round()` with `ndigits=-3`:\n",
       "\n",
       "> The area of Finland is 338,000 km²  \n",
       "> The area of Greenland is 2,166,000 km²\n",
       "\n",
       "(We'll talk about how we would get the commas later when we talk about string formatting :))"
      ]
     },
     "metadata": {},
     "output_type": "display_data"
    }
   ],
   "source": [
    "# Check your answer (Run this code cell to receive credit!)\n",
    "q2.solution()"
   ]
  },
  {
   "cell_type": "markdown",
   "id": "54f271e3",
   "metadata": {
    "papermill": {
     "duration": 0.015129,
     "end_time": "2021-08-04T00:16:05.756595",
     "exception": false,
     "start_time": "2021-08-04T00:16:05.741466",
     "status": "completed"
    },
    "tags": []
   },
   "source": [
    "# 3.\n",
    "\n",
    "In the previous exercise, the candy-sharing friends Alice, Bob and Carol tried to split candies evenly. For the sake of their friendship, any candies left over would be smashed. For example, if they collectively bring home 91 candies, they'll take 30 each and smash 1.\n",
    "\n",
    "Below is a simple function that will calculate the number of candies to smash for *any* number of total candies.\n",
    "\n",
    "Modify it so that it optionally takes a second argument representing the number of friends the candies are being split between. If no second argument is provided, it should assume 3 friends, as before.\n",
    "\n",
    "Update the docstring to reflect this new behaviour."
   ]
  },
  {
   "cell_type": "code",
   "execution_count": 7,
   "id": "56c7cdbf",
   "metadata": {
    "execution": {
     "iopub.execute_input": "2021-08-04T00:16:05.792862Z",
     "iopub.status.busy": "2021-08-04T00:16:05.792236Z",
     "iopub.status.idle": "2021-08-04T00:16:05.796395Z",
     "shell.execute_reply": "2021-08-04T00:16:05.796831Z",
     "shell.execute_reply.started": "2021-08-04T00:15:25.930629Z"
    },
    "papermill": {
     "duration": 0.025047,
     "end_time": "2021-08-04T00:16:05.796990",
     "exception": false,
     "start_time": "2021-08-04T00:16:05.771943",
     "status": "completed"
    },
    "tags": []
   },
   "outputs": [
    {
     "data": {
      "application/javascript": [
       "parent.postMessage({\"jupyterEvent\": \"custom.exercise_interaction\", \"data\": {\"outcomeType\": 1, \"valueTowardsCompletion\": 0.16666666666666666, \"interactionType\": 1, \"questionType\": 2, \"questionId\": \"3_CandySmashingFunctionProblem\", \"learnToolsVersion\": \"0.3.4\", \"failureMessage\": \"\", \"exceptionClass\": \"\", \"trace\": \"\"}}, \"*\")"
      ],
      "text/plain": [
       "<IPython.core.display.Javascript object>"
      ]
     },
     "metadata": {},
     "output_type": "display_data"
    },
    {
     "data": {
      "text/markdown": [
       "<span style=\"color:#33cc33\">Correct</span>"
      ],
      "text/plain": [
       "Correct"
      ]
     },
     "metadata": {},
     "output_type": "display_data"
    }
   ],
   "source": [
    "def to_smash(total_candies, count=3):\n",
    "    \"\"\"Return the number of leftover candies that must be smashed after distributing\n",
    "    the given number of candies evenly between 3 friends.\n",
    "    \n",
    "    >>> to_smash(91)\n",
    "    1\n",
    "    \"\"\"\n",
    "    return total_candies % count\n",
    "\n",
    "# Check your answer\n",
    "q3.check()"
   ]
  },
  {
   "cell_type": "code",
   "execution_count": 8,
   "id": "5928dc4f",
   "metadata": {
    "execution": {
     "iopub.execute_input": "2021-08-04T00:16:05.832289Z",
     "iopub.status.busy": "2021-08-04T00:16:05.831646Z",
     "iopub.status.idle": "2021-08-04T00:16:05.834839Z",
     "shell.execute_reply": "2021-08-04T00:16:05.835298Z",
     "shell.execute_reply.started": "2021-08-04T00:15:25.944609Z"
    },
    "papermill": {
     "duration": 0.022309,
     "end_time": "2021-08-04T00:16:05.835465",
     "exception": false,
     "start_time": "2021-08-04T00:16:05.813156",
     "status": "completed"
    },
    "tags": []
   },
   "outputs": [],
   "source": [
    "#q3.hint()"
   ]
  },
  {
   "cell_type": "code",
   "execution_count": 9,
   "id": "c3f77e49",
   "metadata": {
    "execution": {
     "iopub.execute_input": "2021-08-04T00:16:05.871410Z",
     "iopub.status.busy": "2021-08-04T00:16:05.870767Z",
     "iopub.status.idle": "2021-08-04T00:16:05.876955Z",
     "shell.execute_reply": "2021-08-04T00:16:05.877422Z",
     "shell.execute_reply.started": "2021-08-04T00:15:25.952454Z"
    },
    "papermill": {
     "duration": 0.025776,
     "end_time": "2021-08-04T00:16:05.877591",
     "exception": false,
     "start_time": "2021-08-04T00:16:05.851815",
     "status": "completed"
    },
    "tags": []
   },
   "outputs": [
    {
     "data": {
      "application/javascript": [
       "parent.postMessage({\"jupyterEvent\": \"custom.exercise_interaction\", \"data\": {\"interactionType\": 3, \"questionType\": 2, \"questionId\": \"3_CandySmashingFunctionProblem\", \"learnToolsVersion\": \"0.3.4\", \"valueTowardsCompletion\": 0.0, \"failureMessage\": \"\", \"exceptionClass\": \"\", \"trace\": \"\", \"outcomeType\": 4}}, \"*\")"
      ],
      "text/plain": [
       "<IPython.core.display.Javascript object>"
      ]
     },
     "metadata": {},
     "output_type": "display_data"
    },
    {
     "data": {
      "text/markdown": [
       "<span style=\"color:#33cc99\">Solution:</span> \n",
       "```python\n",
       "def to_smash(total_candies, n_friends=3):\n",
       "    return total_candies % n_friends\n",
       "```"
      ],
      "text/plain": [
       "Solution: \n",
       "```python\n",
       "def to_smash(total_candies, n_friends=3):\n",
       "    return total_candies % n_friends\n",
       "```"
      ]
     },
     "metadata": {},
     "output_type": "display_data"
    }
   ],
   "source": [
    "q3.solution()"
   ]
  },
  {
   "cell_type": "markdown",
   "id": "061d87ce",
   "metadata": {
    "papermill": {
     "duration": 0.016892,
     "end_time": "2021-08-04T00:16:05.911800",
     "exception": false,
     "start_time": "2021-08-04T00:16:05.894908",
     "status": "completed"
    },
    "tags": []
   },
   "source": [
    "# 4. (Optional)\n",
    "\n",
    "It may not be fun, but reading and understanding error messages will be an important part of your Python career.\n",
    "\n",
    "Each code cell below contains some commented buggy code. For each cell...\n",
    "\n",
    "1. Read the code and predict what you think will happen when it's run.\n",
    "2. Then uncomment the code and run it to see what happens. (**Tip**: In the kernel editor, you can highlight several lines and press `ctrl`+`/` to toggle commenting.)\n",
    "3. Fix the code (so that it accomplishes its intended purpose without throwing an exception)\n",
    "\n",
    "<!-- TODO: should this be autochecked? Delta is probably pretty small. -->"
   ]
  },
  {
   "cell_type": "code",
   "execution_count": 10,
   "id": "8a420884",
   "metadata": {
    "execution": {
     "iopub.execute_input": "2021-08-04T00:16:05.949085Z",
     "iopub.status.busy": "2021-08-04T00:16:05.948458Z",
     "iopub.status.idle": "2021-08-04T00:16:05.952965Z",
     "shell.execute_reply": "2021-08-04T00:16:05.953385Z",
     "shell.execute_reply.started": "2021-08-04T00:15:25.967405Z"
    },
    "papermill": {
     "duration": 0.024573,
     "end_time": "2021-08-04T00:16:05.953554",
     "exception": false,
     "start_time": "2021-08-04T00:16:05.928981",
     "status": "completed"
    },
    "tags": []
   },
   "outputs": [
    {
     "data": {
      "text/plain": [
       "10.0"
      ]
     },
     "execution_count": 10,
     "metadata": {},
     "output_type": "execute_result"
    }
   ],
   "source": [
    "round_to_two_places(9.9999)"
   ]
  },
  {
   "cell_type": "code",
   "execution_count": 11,
   "id": "3cbcd34b",
   "metadata": {
    "execution": {
     "iopub.execute_input": "2021-08-04T00:16:05.991583Z",
     "iopub.status.busy": "2021-08-04T00:16:05.990733Z",
     "iopub.status.idle": "2021-08-04T00:16:05.995863Z",
     "shell.execute_reply": "2021-08-04T00:16:05.996804Z",
     "shell.execute_reply.started": "2021-08-04T00:15:25.977434Z"
    },
    "papermill": {
     "duration": 0.026285,
     "end_time": "2021-08-04T00:16:05.997107",
     "exception": false,
     "start_time": "2021-08-04T00:16:05.970822",
     "status": "completed"
    },
    "tags": []
   },
   "outputs": [],
   "source": [
    "x = -10\n",
    "y = 5\n",
    "# Which of the two variables above has the smallest absolute value?\n",
    "def smallest_abs(x, y):\n",
    "    abs_x = abs(x)\n",
    "    abs_y = abs(y)\n",
    "    smallest_abs = min(abs_x, abs_y)\n",
    "    return smallest_abs"
   ]
  },
  {
   "cell_type": "code",
   "execution_count": 12,
   "id": "18baf19e",
   "metadata": {
    "execution": {
     "iopub.execute_input": "2021-08-04T00:16:06.051320Z",
     "iopub.status.busy": "2021-08-04T00:16:06.050586Z",
     "iopub.status.idle": "2021-08-04T00:16:06.053558Z",
     "shell.execute_reply": "2021-08-04T00:16:06.054073Z",
     "shell.execute_reply.started": "2021-08-04T00:15:25.988942Z"
    },
    "papermill": {
     "duration": 0.031999,
     "end_time": "2021-08-04T00:16:06.054255",
     "exception": false,
     "start_time": "2021-08-04T00:16:06.022256",
     "status": "completed"
    },
    "tags": []
   },
   "outputs": [
    {
     "name": "stdout",
     "output_type": "stream",
     "text": [
      "5\n"
     ]
    }
   ],
   "source": [
    "x = -10\n",
    "y = 5\n",
    "print(smallest_abs(x, y))"
   ]
  },
  {
   "cell_type": "code",
   "execution_count": 13,
   "id": "3f7d0442",
   "metadata": {
    "execution": {
     "iopub.execute_input": "2021-08-04T00:16:06.100703Z",
     "iopub.status.busy": "2021-08-04T00:16:06.100008Z",
     "iopub.status.idle": "2021-08-04T00:16:06.103076Z",
     "shell.execute_reply": "2021-08-04T00:16:06.103503Z",
     "shell.execute_reply.started": "2021-08-04T00:15:26.000738Z"
    },
    "papermill": {
     "duration": 0.025835,
     "end_time": "2021-08-04T00:16:06.103674",
     "exception": false,
     "start_time": "2021-08-04T00:16:06.077839",
     "status": "completed"
    },
    "tags": []
   },
   "outputs": [
    {
     "name": "stdout",
     "output_type": "stream",
     "text": [
      "Help on built-in function abs in module builtins:\n",
      "\n",
      "abs(x, /)\n",
      "    Return the absolute value of the argument.\n",
      "\n"
     ]
    }
   ],
   "source": [
    "help(abs)"
   ]
  },
  {
   "cell_type": "code",
   "execution_count": 14,
   "id": "9af1abbe",
   "metadata": {
    "execution": {
     "iopub.execute_input": "2021-08-04T00:16:06.141952Z",
     "iopub.status.busy": "2021-08-04T00:16:06.141364Z",
     "iopub.status.idle": "2021-08-04T00:16:06.146863Z",
     "shell.execute_reply": "2021-08-04T00:16:06.146190Z",
     "shell.execute_reply.started": "2021-08-04T00:15:26.014584Z"
    },
    "papermill": {
     "duration": 0.025629,
     "end_time": "2021-08-04T00:16:06.147050",
     "exception": false,
     "start_time": "2021-08-04T00:16:06.121421",
     "status": "completed"
    },
    "tags": []
   },
   "outputs": [
    {
     "name": "stdout",
     "output_type": "stream",
     "text": [
      "5\n"
     ]
    }
   ],
   "source": [
    "def f(x):\n",
    "    y = abs(x)\n",
    "    return y\n",
    "\n",
    "print(f(5))"
   ]
  },
  {
   "cell_type": "markdown",
   "id": "275c92c7",
   "metadata": {
    "papermill": {
     "duration": 0.017587,
     "end_time": "2021-08-04T00:16:06.183450",
     "exception": false,
     "start_time": "2021-08-04T00:16:06.165863",
     "status": "completed"
    },
    "tags": []
   },
   "source": [
    "# Keep Going\n",
    "\n",
    "Nice job with the code. Next up, you'll learn about *conditionals*, which you'll need to **[write interesting programs](https://www.kaggle.com/colinmorris/booleans-and-conditionals)**. "
   ]
  },
  {
   "cell_type": "markdown",
   "id": "d6dd5102",
   "metadata": {
    "papermill": {
     "duration": 0.017755,
     "end_time": "2021-08-04T00:16:06.219222",
     "exception": false,
     "start_time": "2021-08-04T00:16:06.201467",
     "status": "completed"
    },
    "tags": []
   },
   "source": [
    "---\n",
    "\n",
    "\n",
    "\n",
    "\n",
    "*Have questions or comments? Visit the [Learn Discussion forum](https://www.kaggle.com/learn-forum/161283) to chat with other Learners.*"
   ]
  }
 ],
 "metadata": {
  "kernelspec": {
   "display_name": "Python 3",
   "language": "python",
   "name": "python3"
  },
  "language_info": {
   "codemirror_mode": {
    "name": "ipython",
    "version": 3
   },
   "file_extension": ".py",
   "mimetype": "text/x-python",
   "name": "python",
   "nbconvert_exporter": "python",
   "pygments_lexer": "ipython3",
   "version": "3.7.10"
  },
  "papermill": {
   "default_parameters": {},
   "duration": 9.785475,
   "end_time": "2021-08-04T00:16:07.868871",
   "environment_variables": {},
   "exception": null,
   "input_path": "__notebook__.ipynb",
   "output_path": "__notebook__.ipynb",
   "parameters": {},
   "start_time": "2021-08-04T00:15:58.083396",
   "version": "2.3.3"
  }
 },
 "nbformat": 4,
 "nbformat_minor": 5
}
